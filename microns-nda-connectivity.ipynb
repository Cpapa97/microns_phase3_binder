{
 "cells": [
  {
   "cell_type": "code",
   "execution_count": null,
   "id": "73f005e4",
   "metadata": {},
   "outputs": [],
   "source": [
    "import datajoint as dj\n",
    "dj.config['database.host'] = 'datajoint.ninai.org'"
   ]
  },
  {
   "cell_type": "code",
   "execution_count": null,
   "id": "9ea71973",
   "metadata": {},
   "outputs": [],
   "source": [
    "nda = dj.create_virtual_module('nda', 'microns_phase3_nda')"
   ]
  },
  {
   "cell_type": "code",
   "execution_count": null,
   "id": "1f1c5d23",
   "metadata": {},
   "outputs": [],
   "source": [
    "nda.Scan()"
   ]
  }
 ],
 "metadata": {
  "kernelspec": {
   "display_name": "Python 3",
   "language": "python",
   "name": "python3"
  },
  "language_info": {
   "codemirror_mode": {
    "name": "ipython",
    "version": 3
   },
   "file_extension": ".py",
   "mimetype": "text/x-python",
   "name": "python",
   "nbconvert_exporter": "python",
   "pygments_lexer": "ipython3",
   "version": "3.8.10"
  }
 },
 "nbformat": 4,
 "nbformat_minor": 5
}
